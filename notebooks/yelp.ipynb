{
 "cells": [
  {
   "cell_type": "markdown",
   "metadata": {},
   "source": [
    "# Connecting to the Foursquare"
   ]
  },
  {
   "cell_type": "markdown",
   "metadata": {},
   "source": [
    "### Note: \n",
    "\n",
    "This was a file where we first got familiar with the YELP api, explored the JSON and got an idea of what columns we ultimately we wanted to extract. The dataset with which we ultimately work with for Foursquare is created in the 'bike_poi_radius_yelp.ipynb' file.\n",
    "\n",
    "While it plays no direct purpose, it showcases part of the entire process."
   ]
  },
  {
   "cell_type": "code",
   "execution_count": 3,
   "metadata": {},
   "outputs": [],
   "source": [
    "import os\n",
    "import pandas as pd\n",
    "import requests\n",
    "from dotenv import load_dotenv\n",
    "import json"
   ]
  },
  {
   "cell_type": "code",
   "execution_count": 4,
   "metadata": {},
   "outputs": [
    {
     "data": {
      "text/plain": [
       "True"
      ]
     },
     "execution_count": 4,
     "metadata": {},
     "output_type": "execute_result"
    }
   ],
   "source": [
    "# loading the .env file with stored API keys\n",
    "load_dotenv()"
   ]
  },
  {
   "cell_type": "code",
   "execution_count": 5,
   "metadata": {},
   "outputs": [
    {
     "name": "stdout",
     "output_type": "stream",
     "text": [
      "jqdxI6hFifMgGnGtpAYTqsNieed4yjGvPhTv-zSheM3p0Q7rYoMvV524gjBXKkQQDS3nOga_hCbmcUc3xKWmo-ns4Z50fMSnWkWiaIt0LIOKB7o_nOpj-f4enacxZXYx\n"
     ]
    }
   ],
   "source": [
    "# assigning stored api_key in .env file to vairables\n",
    "api_key = os.environ.get('YELP')\n",
    "print(api_key)"
   ]
  },
  {
   "cell_type": "code",
   "execution_count": 6,
   "metadata": {},
   "outputs": [],
   "source": [
    "url='https://api.yelp.com/v3/businesses/search'\n",
    "\n",
    "params = {\n",
    "    'term':'library',\n",
    "    'location':'Toronto',\n",
    "    'radius': 40000,\n",
    "    'limit': 2\n",
    "}\n",
    "\n",
    "headers = {\n",
    "    'Authorization': 'Bearer %s' % api_key\n",
    "}"
   ]
  },
  {
   "cell_type": "code",
   "execution_count": 7,
   "metadata": {},
   "outputs": [],
   "source": [
    "# Make the API request\n",
    "response = requests.get(url, params=params, headers=headers)\n",
    "response\n",
    "\n",
    "data = response.json()"
   ]
  },
  {
   "cell_type": "code",
   "execution_count": 8,
   "metadata": {},
   "outputs": [
    {
     "name": "stdout",
     "output_type": "stream",
     "text": [
      "{\n",
      "    \"error\": {\n",
      "        \"code\": \"ACCESS_LIMIT_REACHED\",\n",
      "        \"description\": \"You've reached the access limit for this client. See instructions for requesting a higher access limit at https://docs.developer.yelp.com/docs/fusion-rate-limiting\"\n",
      "    }\n",
      "}\n"
     ]
    }
   ],
   "source": [
    "print(json.dumps(data, indent=4)) # we hit a rate limit...."
   ]
  },
  {
   "cell_type": "code",
   "execution_count": 72,
   "metadata": {},
   "outputs": [],
   "source": [
    "ids = []\n",
    "names = []\n",
    "categories = []\n",
    "ratings = []\n",
    "distances = []\n",
    "latitudes = []\n",
    "longitudes = []\n",
    "\n",
    "for results in data['businesses']:\n",
    "    id = results['id']\n",
    "    name = results['name']\n",
    "    category = results['categories'][0]['alias']\n",
    "    rating = results['rating'] # unlike in the Foursquare API, YELP gives us ratings for all POI's...\n",
    "    distance = results['distance']\n",
    "    latitude = results['coordinates']['latitude']\n",
    "    longitude = results['coordinates']['longitude']\n",
    "\n",
    "    ids.append(id)\n",
    "    names.append(name)\n",
    "    categories.append(category)\n",
    "    ratings.append(rating)\n",
    "    distances.append(distance)\n",
    "    latitudes.append(latitude)\n",
    "    longitudes.append(longitude)\n"
   ]
  },
  {
   "cell_type": "code",
   "execution_count": 73,
   "metadata": {},
   "outputs": [],
   "source": [
    "data_dict = {\n",
    "    'id': ids,\n",
    "    'category': categories,\n",
    "    'name': names,\n",
    "    'rating': ratings,\n",
    "    'distance': distances,\n",
    "    'latitude': latitudes,\n",
    "    'longitude': longitudes\n",
    "}\n"
   ]
  },
  {
   "cell_type": "code",
   "execution_count": 74,
   "metadata": {},
   "outputs": [
    {
     "data": {
      "text/html": [
       "<div>\n",
       "<style scoped>\n",
       "    .dataframe tbody tr th:only-of-type {\n",
       "        vertical-align: middle;\n",
       "    }\n",
       "\n",
       "    .dataframe tbody tr th {\n",
       "        vertical-align: top;\n",
       "    }\n",
       "\n",
       "    .dataframe thead th {\n",
       "        text-align: right;\n",
       "    }\n",
       "</style>\n",
       "<table border=\"1\" class=\"dataframe\">\n",
       "  <thead>\n",
       "    <tr style=\"text-align: right;\">\n",
       "      <th></th>\n",
       "      <th>id</th>\n",
       "      <th>category</th>\n",
       "      <th>name</th>\n",
       "      <th>rating</th>\n",
       "      <th>distance</th>\n",
       "      <th>latitude</th>\n",
       "      <th>longitude</th>\n",
       "    </tr>\n",
       "  </thead>\n",
       "  <tbody>\n",
       "    <tr>\n",
       "      <th>0</th>\n",
       "      <td>mQw6k79A5UY4aPfpFNiowQ</td>\n",
       "      <td>libraries</td>\n",
       "      <td>Toronto Reference Library</td>\n",
       "      <td>4.5</td>\n",
       "      <td>849.652198</td>\n",
       "      <td>43.671880</td>\n",
       "      <td>-79.386630</td>\n",
       "    </tr>\n",
       "    <tr>\n",
       "      <th>1</th>\n",
       "      <td>vbZA89K-HNDID98Kc9YkJQ</td>\n",
       "      <td>libraries</td>\n",
       "      <td>EJ Pratt Libary</td>\n",
       "      <td>4.5</td>\n",
       "      <td>957.510166</td>\n",
       "      <td>43.666673</td>\n",
       "      <td>-79.391246</td>\n",
       "    </tr>\n",
       "    <tr>\n",
       "      <th>2</th>\n",
       "      <td>D3P7otNjS-a31EqXuEua7A</td>\n",
       "      <td>landmarks</td>\n",
       "      <td>Osgoode Hall</td>\n",
       "      <td>4.5</td>\n",
       "      <td>2656.004517</td>\n",
       "      <td>43.651670</td>\n",
       "      <td>-79.384910</td>\n",
       "    </tr>\n",
       "  </tbody>\n",
       "</table>\n",
       "</div>"
      ],
      "text/plain": [
       "                       id   category                       name  rating  \\\n",
       "0  mQw6k79A5UY4aPfpFNiowQ  libraries  Toronto Reference Library     4.5   \n",
       "1  vbZA89K-HNDID98Kc9YkJQ  libraries            EJ Pratt Libary     4.5   \n",
       "2  D3P7otNjS-a31EqXuEua7A  landmarks               Osgoode Hall     4.5   \n",
       "\n",
       "      distance   latitude  longitude  \n",
       "0   849.652198  43.671880 -79.386630  \n",
       "1   957.510166  43.666673 -79.391246  \n",
       "2  2656.004517  43.651670 -79.384910  "
      ]
     },
     "execution_count": 74,
     "metadata": {},
     "output_type": "execute_result"
    }
   ],
   "source": [
    "bars = pd.DataFrame(data_dict)\n",
    "bars"
   ]
  },
  {
   "cell_type": "code",
   "execution_count": null,
   "metadata": {},
   "outputs": [],
   "source": []
  }
 ],
 "metadata": {
  "kernelspec": {
   "display_name": "Python 3",
   "language": "python",
   "name": "python3"
  },
  "language_info": {
   "codemirror_mode": {
    "name": "ipython",
    "version": 3
   },
   "file_extension": ".py",
   "mimetype": "text/x-python",
   "name": "python",
   "nbconvert_exporter": "python",
   "pygments_lexer": "ipython3",
   "version": "3.11.6"
  }
 },
 "nbformat": 4,
 "nbformat_minor": 2
}
